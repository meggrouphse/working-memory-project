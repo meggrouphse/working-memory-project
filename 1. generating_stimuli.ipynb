{
  "cells": [
    {
      "cell_type": "markdown",
      "metadata": {},
      "source": [
        "This script:\n",
        "1. Generates all possible combinations of a set of letters (at random locations)\n",
        "2. Excludes unwanted letter and location patterns\n",
        "3. Adds columns of correct and incorrect options for each grid\n"
      ]
    },
    {
      "cell_type": "code",
      "execution_count": 18,
      "metadata": {
        "id": "0pCXP5cAyWoA"
      },
      "outputs": [],
      "source": [
        "import random\n",
        "import matplotlib.pyplot as plt\n",
        "plt.style.use('ggplot')\n",
        "import numpy as np\n",
        "import pandas as pd\n",
        "import itertools\n",
        "import ast\n"
      ]
    },
    {
      "cell_type": "code",
      "execution_count": 19,
      "metadata": {
        "id": "OCUtOfW5NbxQ"
      },
      "outputs": [],
      "source": [
        "path_to_save = '...' #! SET YOUR PATH HERE\n"
      ]
    },
    {
      "cell_type": "code",
      "execution_count": 22,
      "metadata": {},
      "outputs": [
        {
          "data": {
            "text/plain": [
              "210"
            ]
          },
          "execution_count": 22,
          "metadata": {},
          "output_type": "execute_result"
        }
      ],
      "source": [
        "# Total combinations of letters\n",
        "i = [i for i in itertools.combinations('ТЛКМДПГЖШФ', 4)]\n",
        "len(i)"
      ]
    },
    {
      "cell_type": "code",
      "execution_count": 7,
      "metadata": {},
      "outputs": [
        {
          "data": {
            "text/plain": [
              "70"
            ]
          },
          "execution_count": 7,
          "metadata": {},
          "output_type": "execute_result"
        }
      ],
      "source": [
        "# Total combinations of locations\n",
        "j = [j for j in itertools.combinations(range(8), 4)]\n",
        "len(j)\n"
      ]
    },
    {
      "cell_type": "code",
      "execution_count": 23,
      "metadata": {},
      "outputs": [
        {
          "data": {
            "text/plain": [
              "14700"
            ]
          },
          "execution_count": 23,
          "metadata": {},
          "output_type": "execute_result"
        }
      ],
      "source": [
        "# Total number of possible stimuli\n",
        "len(i)*len(j)"
      ]
    },
    {
      "cell_type": "code",
      "execution_count": 3,
      "metadata": {
        "colab": {
          "base_uri": "https://localhost:8080/",
          "height": 1000
        },
        "id": "pfhXa6EY4TWO",
        "outputId": "898f7d17-7e05-4709-c7fe-3778d307283a"
      },
      "outputs": [],
      "source": [
        "# Generate all possible grids (excluding cental position)\n",
        "\n",
        "def generate_all_grids():\n",
        "    # Define the set of letters to be used in combinations\n",
        "    letters = 'ТЛКМДПГЖШФ'\n",
        "\n",
        "    # List to store all generated grids\n",
        "    all_grids = []\n",
        "\n",
        "    # Iterate through all combinations of 4 letters from the set\n",
        "    for combination in itertools.combinations(letters, 4):\n",
        "        # Iterate through all combinations of 4 positions on a 3x3 grid\n",
        "        for positions in itertools.combinations(range(9), 4):\n",
        "            # Shuffle the current combination\n",
        "            combination = tuple(random.sample(list(combination), len(list(combination))))\n",
        "            # Create a 3x3 grid filled with placeholder character 'Х'\n",
        "            grid = np.full((3, 3), 'Х')\n",
        "\n",
        "            # If the number 4 (central location) is among the chosen positions, skip this iteration\n",
        "            if 4 in positions:\n",
        "                continue  # Skip this iteration\n",
        "\n",
        "            # Fill the grid with letters at corresponding positions\n",
        "            for letter, position in zip(combination, positions):\n",
        "                row, col = divmod(position, 3)\n",
        "                grid[row, col] = letter\n",
        "\n",
        "            # Add the generated grid to the list\n",
        "            all_grids.append(grid)\n",
        "\n",
        "    return all_grids\n"
      ]
    },
    {
      "cell_type": "code",
      "execution_count": 4,
      "metadata": {},
      "outputs": [],
      "source": [
        "# Create pictures from grids\n",
        "\n",
        "def draw_grid(grid, filename):\n",
        "    # Flip the grid vertically (to match typical grid orientation)\n",
        "    flipped_grid = np.flipud(grid)\n",
        "\n",
        "    # Set figure parameters\n",
        "    fig, ax = plt.subplots()\n",
        "    ax.axis('off')\n",
        "    ax.set_aspect('equal')\n",
        "    font = {'family': 'Century Gothic'}\n",
        "\n",
        "    # Draw vertical and horizontal lines to create grid\n",
        "    for i in range(4):\n",
        "        ax.vlines(i, 0, 3, color='gray', linewidth=2)  # vertical lines\n",
        "        ax.hlines(i, 0, 3, color='gray', linewidth=2)  # horizontal lines\n",
        "\n",
        "    # Fill each cell with light gray color and write the letter\n",
        "    for i in range(3):\n",
        "        for j in range(3):\n",
        "            ax.axvspan(j, j + 1, i, i + 1, facecolor=(0.95, 0.95, 0.95)) # 0.95 or 0.97\n",
        "            if flipped_grid[i, j] != 'Х':\n",
        "                rect = plt.Rectangle((j, i), 1, 1, color='0.85')  # light gray rectangle # 0.85 or 0.9\n",
        "                ax.add_patch(rect)\n",
        "            ax.text(j + 0.5, i + 0.5, flipped_grid[i, j], fontdict=font, fontsize=30, ha='center', va='center')\n",
        "\n",
        "    # Save the figure as an image\n",
        "    plt.savefig(f'{path_to_save}{filename}', bbox_inches='tight', pad_inches=-0.18, dpi=300)\n",
        "    plt.close()\n"
      ]
    },
    {
      "cell_type": "code",
      "execution_count": 5,
      "metadata": {},
      "outputs": [],
      "source": [
        "# Set rules for stimuli generation\n",
        "\n",
        "def exceptions(letters: list[str, str, str, str], indices: list[int, int, int, int]) -> bool:\n",
        "    \n",
        "    # Initialize exception flag\n",
        "    exception = False\n",
        "    \n",
        "    # Define positional indices that lead to exceptions (for symmetrical patterns)\n",
        "    ind_exc_list = [[0,1,3,4], [1,2,4,5], [3,4,6,7], [4,5,7,8], [0, 2, 6, 8], [1, 3, 5, 7]]\n",
        "    \n",
        "    # Check if the provided indices match any of the predefined exceptions\n",
        "    if indices in ind_exc_list:\n",
        "        exception = True\n",
        "\n",
        "    # Define pairs of letters that lead to exceptions\n",
        "    letter_pairs = [['Г', 'К'], ['Г', 'Т'], ['Л', 'Д'], ['Т', 'Д'], ['Ш', 'Ж'], ['К', 'Л'], ['Л', 'М']]\n",
        "    \n",
        "    # Check if any of the letter pairs exist in the provided list of letters\n",
        "    for pair in letter_pairs:\n",
        "        if pair[0] in letters and pair[1] in letters:\n",
        "            # If a pair is found, set exception flag to True and break the loop\n",
        "            exception = True\n",
        "            break\n",
        "    \n",
        "    # Return the final exception flag\n",
        "    return exception\n"
      ]
    },
    {
      "cell_type": "code",
      "execution_count": null,
      "metadata": {},
      "outputs": [],
      "source": [
        "# Generate all grids and save them as CSV (will be used later to generate sequences)\n",
        "\n",
        "# Generate all grids\n",
        "all_grids = generate_all_grids()\n",
        "\n",
        "# Create an empty DataFrame to store grid information\n",
        "df = pd.DataFrame(columns=['grid', 'letters', 'locs', 'encoding_stim'])\n",
        "\n",
        "# Loop through each generated grid\n",
        "for i, grid in enumerate(all_grids):\n",
        "    # Convert grid to list format and extract non-placeholder letters\n",
        "    letters = grid.tolist()\n",
        "    letters = [element for sublist in letters for element in sublist if element != 'Х'] # Remove 'Х' placeholders\n",
        "\n",
        "    # Get indices of non-placeholder letters\n",
        "    indices = np.where(grid.flatten() != 'Х')[0].tolist()\n",
        "\n",
        "    # Check for exceptions based on defined rules\n",
        "    exception = exceptions(letters, indices)\n",
        "\n",
        "    # If no exceptions are found, proceed to save the grid\n",
        "    if exception == False:\n",
        "        # Define filename for the grid image\n",
        "        filename = f'grid_{i+1}.png'\n",
        "        \n",
        "        # Draw and save the grid image\n",
        "        draw_grid(grid, filename)\n",
        "\n",
        "        # Add grid information to the DataFrame\n",
        "        df = df.append({'grid': [grid], 'letters': letters, 'locs': indices, 'encoding_stim': filename}, ignore_index=True)\n",
        "\n",
        "    # If exceptions are found, skip to the next grid\n",
        "    else:\n",
        "        continue\n",
        "\n",
        "\n",
        "# Save the DataFrame to a CSV file\n",
        "df.to_csv(f'{path_to_save}all_grids.csv', sep=';', index=True, encoding='utf-8-sig')\n"
      ]
    },
    {
      "cell_type": "markdown",
      "metadata": {},
      "source": [
        "**CHECKING FOR CORRECTNESS**"
      ]
    },
    {
      "cell_type": "code",
      "execution_count": 53,
      "metadata": {},
      "outputs": [
        {
          "data": {
            "text/html": [
              "<div>\n",
              "<style scoped>\n",
              "    .dataframe tbody tr th:only-of-type {\n",
              "        vertical-align: middle;\n",
              "    }\n",
              "\n",
              "    .dataframe tbody tr th {\n",
              "        vertical-align: top;\n",
              "    }\n",
              "\n",
              "    .dataframe thead th {\n",
              "        text-align: right;\n",
              "    }\n",
              "</style>\n",
              "<table border=\"1\" class=\"dataframe\">\n",
              "  <thead>\n",
              "    <tr style=\"text-align: right;\">\n",
              "      <th></th>\n",
              "      <th>grid</th>\n",
              "      <th>letters</th>\n",
              "      <th>locs</th>\n",
              "      <th>encoding_stim</th>\n",
              "    </tr>\n",
              "  </thead>\n",
              "  <tbody>\n",
              "    <tr>\n",
              "      <th>0</th>\n",
              "      <td>[array([['Л', 'Ж', 'П'],\\n       ['Т', 'Х', 'Х...</td>\n",
              "      <td>['Л', 'Ж', 'П', 'Т']</td>\n",
              "      <td>[0, 1, 2, 3]</td>\n",
              "      <td>grid_1331.png</td>\n",
              "    </tr>\n",
              "    <tr>\n",
              "      <th>1</th>\n",
              "      <td>[array([['Ж', 'Л', 'Т'],\\n       ['Х', 'Х', 'П...</td>\n",
              "      <td>['Ж', 'Л', 'Т', 'П']</td>\n",
              "      <td>[0, 1, 2, 5]</td>\n",
              "      <td>grid_1332.png</td>\n",
              "    </tr>\n",
              "    <tr>\n",
              "      <th>2</th>\n",
              "      <td>[array([['П', 'Л', 'Ж'],\\n       ['Х', 'Х', 'Х...</td>\n",
              "      <td>['П', 'Л', 'Ж', 'Т']</td>\n",
              "      <td>[0, 1, 2, 6]</td>\n",
              "      <td>grid_1333.png</td>\n",
              "    </tr>\n",
              "    <tr>\n",
              "      <th>3</th>\n",
              "      <td>[array([['Ж', 'Л', 'Т'],\\n       ['Х', 'Х', 'Х...</td>\n",
              "      <td>['Ж', 'Л', 'Т', 'П']</td>\n",
              "      <td>[0, 1, 2, 7]</td>\n",
              "      <td>grid_1334.png</td>\n",
              "    </tr>\n",
              "    <tr>\n",
              "      <th>4</th>\n",
              "      <td>[array([['Т', 'П', 'Ж'],\\n       ['Х', 'Х', 'Х...</td>\n",
              "      <td>['Т', 'П', 'Ж', 'Л']</td>\n",
              "      <td>[0, 1, 2, 8]</td>\n",
              "      <td>grid_1335.png</td>\n",
              "    </tr>\n",
              "  </tbody>\n",
              "</table>\n",
              "</div>"
            ],
            "text/plain": [
              "                                                grid               letters  \\\n",
              "0  [array([['Л', 'Ж', 'П'],\\n       ['Т', 'Х', 'Х...  ['Л', 'Ж', 'П', 'Т']   \n",
              "1  [array([['Ж', 'Л', 'Т'],\\n       ['Х', 'Х', 'П...  ['Ж', 'Л', 'Т', 'П']   \n",
              "2  [array([['П', 'Л', 'Ж'],\\n       ['Х', 'Х', 'Х...  ['П', 'Л', 'Ж', 'Т']   \n",
              "3  [array([['Ж', 'Л', 'Т'],\\n       ['Х', 'Х', 'Х...  ['Ж', 'Л', 'Т', 'П']   \n",
              "4  [array([['Т', 'П', 'Ж'],\\n       ['Х', 'Х', 'Х...  ['Т', 'П', 'Ж', 'Л']   \n",
              "\n",
              "           locs  encoding_stim  \n",
              "0  [0, 1, 2, 3]  grid_1331.png  \n",
              "1  [0, 1, 2, 5]  grid_1332.png  \n",
              "2  [0, 1, 2, 6]  grid_1333.png  \n",
              "3  [0, 1, 2, 7]  grid_1334.png  \n",
              "4  [0, 1, 2, 8]  grid_1335.png  "
            ]
          },
          "execution_count": 53,
          "metadata": {},
          "output_type": "execute_result"
        }
      ],
      "source": [
        "# Now we would like to add columns with information about correct and incorrect answers to the ALL_GRIDS dataframe\n",
        "all_grids_path = '...\\\\all_grids.csv' #! SET YOUR PATH HERE\n",
        "all_grids_df = pd.read_csv(all_grids_path, delimiter=';', index_col=0)\n",
        "all_grids_df.head()"
      ]
    },
    {
      "cell_type": "markdown",
      "metadata": {},
      "source": [
        "*rules for location*"
      ]
    },
    {
      "cell_type": "code",
      "execution_count": 54,
      "metadata": {},
      "outputs": [],
      "source": [
        "# Creating a column of incorrect locations\n",
        "\n",
        "# Define all possible indices (excluding the center)\n",
        "all_inds = [0, 1, 2, 3, 5, 6, 7, 8]\n",
        "\n",
        "# Initialize a list to store incorrect locations for each grid\n",
        "incorrect_locs = []\n",
        "\n",
        "# Iterate through the 'locs' column of the DataFrame\n",
        "for i in all_grids_df['locs']:\n",
        "    sublist = []\n",
        "    # Convert the string representation of indices to a list\n",
        "    i = ast.literal_eval(i)\n",
        "    # Check each index in all_inds\n",
        "    for j in all_inds:\n",
        "        # If the index is not present in the 'locs' list, add it to the sublist\n",
        "        if j not in i:\n",
        "            sublist.append(j)\n",
        "    # Append the sublist of incorrect locations to the incorrect_locs list\n",
        "    incorrect_locs.append(sublist)\n",
        "\n",
        "# Add the list of incorrect locations as a new column 'incorr_locs' in the DataFrame\n",
        "all_grids_df['incorr_locs'] = incorrect_locs\n"
      ]
    },
    {
      "cell_type": "markdown",
      "metadata": {},
      "source": [
        "*rules for letters*"
      ]
    },
    {
      "cell_type": "code",
      "execution_count": 55,
      "metadata": {},
      "outputs": [],
      "source": [
        "# Correct and incorrect letters for verbal span\n",
        "\n",
        "# Initialize lists to store correct and incorrect letters for each grid\n",
        "corr_letters = []\n",
        "incorrect_lett = []\n",
        "\n",
        "# Iterate through the 'letters' column of the DataFrame\n",
        "for sequence in all_grids_df['letters']:\n",
        "    # Convert the string representation of the sequence to a list\n",
        "    sequence = ast.literal_eval(sequence)\n",
        "    # Convert the list to a string\n",
        "    sequence = ''.join(sequence)\n",
        "    \n",
        "    # Create a dictionary mapping each letter to its index in the sequence\n",
        "    letter_dict = {letter: index for index, letter in enumerate(sequence)}\n",
        "    \n",
        "    # Create a dictionary mapping each letter to a list of indices where it appears incorrectly\n",
        "    incorrect_indices_dict = {\n",
        "        letter: [index for index, char in enumerate(sequence) if char != letter] for letter in sequence\n",
        "    }\n",
        "    \n",
        "    # Append the dictionaries to the respective lists\n",
        "    corr_letters.append(letter_dict)\n",
        "    incorrect_lett.append(incorrect_indices_dict)\n",
        "\n",
        "# Add the lists of correct and incorrect letters as new columns in the DataFrame\n",
        "all_grids_df['corr_letters'] = corr_letters\n",
        "all_grids_df['incorr_letters'] = incorrect_lett\n"
      ]
    },
    {
      "cell_type": "markdown",
      "metadata": {},
      "source": [
        "*rules for rotation*"
      ]
    },
    {
      "cell_type": "code",
      "execution_count": 56,
      "metadata": {},
      "outputs": [],
      "source": [
        "def rotate_indices_clockwise(indices: list[int]) -> list[int]:\n",
        "    # Define a dictionary that maps each index to its clockwise rotated position\n",
        "    transformation_dict = {0: 2, 1: 5, 2: 8, 3: 1, 5: 7, 6: 0, 7: 3, 8: 6}\n",
        "    \n",
        "    # Use list comprehension to generate the rotated indices\n",
        "    rotated_indices = [transformation_dict[index] for index in indices]\n",
        "    \n",
        "    # Return the rotated indices\n",
        "    return rotated_indices\n"
      ]
    },
    {
      "cell_type": "code",
      "execution_count": 57,
      "metadata": {},
      "outputs": [],
      "source": [
        "# Correct and incorrect rotation\n",
        "\n",
        "# Define all possible indices (excluding the center)\n",
        "all_inds = [0, 1, 2, 3, 5, 6, 7, 8]\n",
        "\n",
        "# Initialize lists to store rotated indices and incorrect rotations for each grid\n",
        "rotated_inds = []\n",
        "incorrect_rot = []\n",
        "\n",
        "# Iterate through the 'locs' column of the DataFrame\n",
        "for locs in all_grids_df['locs']:\n",
        "    sublist = []\n",
        "    # Convert the string representation of indices to a list\n",
        "    locs = ast.literal_eval(locs)\n",
        "    # Rotate the indices clockwise\n",
        "    rotation = rotate_indices_clockwise(locs)\n",
        "    # Append the rotated indices to the list\n",
        "    rotated_inds.append(rotation)\n",
        "\n",
        "    # Check each index in all_inds\n",
        "    for j in all_inds:\n",
        "        # If the index is not present in the rotated indices, add it to the sublist\n",
        "        if j not in rotation:\n",
        "            sublist.append(j)\n",
        "    # Append the sublist of incorrect rotations to the incorrect_rot list\n",
        "    incorrect_rot.append(sublist)\n",
        "\n",
        "# Add the list of rotated indices as a new column 'rotated_inds' in the DataFrame\n",
        "all_grids_df['rotated_inds'] = rotated_inds\n",
        "\n",
        "# Add the list of incorrect rotations as a new column 'incorr_rot' in the DataFrame\n",
        "all_grids_df['incorr_rot'] = incorrect_rot"
      ]
    },
    {
      "cell_type": "code",
      "execution_count": 12,
      "metadata": {},
      "outputs": [
        {
          "data": {
            "text/html": [
              "<div>\n",
              "<style scoped>\n",
              "    .dataframe tbody tr th:only-of-type {\n",
              "        vertical-align: middle;\n",
              "    }\n",
              "\n",
              "    .dataframe tbody tr th {\n",
              "        vertical-align: top;\n",
              "    }\n",
              "\n",
              "    .dataframe thead th {\n",
              "        text-align: right;\n",
              "    }\n",
              "</style>\n",
              "<table border=\"1\" class=\"dataframe\">\n",
              "  <thead>\n",
              "    <tr style=\"text-align: right;\">\n",
              "      <th></th>\n",
              "      <th>grid</th>\n",
              "      <th>letters</th>\n",
              "      <th>locs</th>\n",
              "      <th>encoding_stim</th>\n",
              "      <th>incorr_locs</th>\n",
              "      <th>corr_letters</th>\n",
              "      <th>incorr_letters</th>\n",
              "      <th>rotated_inds</th>\n",
              "      <th>incorr_rot</th>\n",
              "    </tr>\n",
              "  </thead>\n",
              "  <tbody>\n",
              "    <tr>\n",
              "      <th>0</th>\n",
              "      <td>[array([['Л', 'Ж', 'П'],\\n       ['Т', 'Х', 'Х...</td>\n",
              "      <td>['Л', 'Ж', 'П', 'Т']</td>\n",
              "      <td>[0, 1, 2, 3]</td>\n",
              "      <td>grid_1331.png</td>\n",
              "      <td>[5, 6, 7, 8]</td>\n",
              "      <td>{'Л': 0, 'Ж': 1, 'П': 2, 'Т': 3}</td>\n",
              "      <td>{'Л': [1, 2, 3], 'Ж': [0, 2, 3], 'П': [0, 1, 3...</td>\n",
              "      <td>[2, 5, 8, 1]</td>\n",
              "      <td>[0, 3, 6, 7]</td>\n",
              "    </tr>\n",
              "    <tr>\n",
              "      <th>1</th>\n",
              "      <td>[array([['Ж', 'Л', 'Т'],\\n       ['Х', 'Х', 'П...</td>\n",
              "      <td>['Ж', 'Л', 'Т', 'П']</td>\n",
              "      <td>[0, 1, 2, 5]</td>\n",
              "      <td>grid_1332.png</td>\n",
              "      <td>[3, 6, 7, 8]</td>\n",
              "      <td>{'Ж': 0, 'Л': 1, 'Т': 2, 'П': 3}</td>\n",
              "      <td>{'Ж': [1, 2, 3], 'Л': [0, 2, 3], 'Т': [0, 1, 3...</td>\n",
              "      <td>[2, 5, 8, 7]</td>\n",
              "      <td>[0, 1, 3, 6]</td>\n",
              "    </tr>\n",
              "    <tr>\n",
              "      <th>2</th>\n",
              "      <td>[array([['П', 'Л', 'Ж'],\\n       ['Х', 'Х', 'Х...</td>\n",
              "      <td>['П', 'Л', 'Ж', 'Т']</td>\n",
              "      <td>[0, 1, 2, 6]</td>\n",
              "      <td>grid_1333.png</td>\n",
              "      <td>[3, 5, 7, 8]</td>\n",
              "      <td>{'П': 0, 'Л': 1, 'Ж': 2, 'Т': 3}</td>\n",
              "      <td>{'П': [1, 2, 3], 'Л': [0, 2, 3], 'Ж': [0, 1, 3...</td>\n",
              "      <td>[2, 5, 8, 0]</td>\n",
              "      <td>[1, 3, 6, 7]</td>\n",
              "    </tr>\n",
              "    <tr>\n",
              "      <th>3</th>\n",
              "      <td>[array([['Ж', 'Л', 'Т'],\\n       ['Х', 'Х', 'Х...</td>\n",
              "      <td>['Ж', 'Л', 'Т', 'П']</td>\n",
              "      <td>[0, 1, 2, 7]</td>\n",
              "      <td>grid_1334.png</td>\n",
              "      <td>[3, 5, 6, 8]</td>\n",
              "      <td>{'Ж': 0, 'Л': 1, 'Т': 2, 'П': 3}</td>\n",
              "      <td>{'Ж': [1, 2, 3], 'Л': [0, 2, 3], 'Т': [0, 1, 3...</td>\n",
              "      <td>[2, 5, 8, 3]</td>\n",
              "      <td>[0, 1, 6, 7]</td>\n",
              "    </tr>\n",
              "    <tr>\n",
              "      <th>4</th>\n",
              "      <td>[array([['Т', 'П', 'Ж'],\\n       ['Х', 'Х', 'Х...</td>\n",
              "      <td>['Т', 'П', 'Ж', 'Л']</td>\n",
              "      <td>[0, 1, 2, 8]</td>\n",
              "      <td>grid_1335.png</td>\n",
              "      <td>[3, 5, 6, 7]</td>\n",
              "      <td>{'Т': 0, 'П': 1, 'Ж': 2, 'Л': 3}</td>\n",
              "      <td>{'Т': [1, 2, 3], 'П': [0, 2, 3], 'Ж': [0, 1, 3...</td>\n",
              "      <td>[2, 5, 8, 6]</td>\n",
              "      <td>[0, 1, 3, 7]</td>\n",
              "    </tr>\n",
              "  </tbody>\n",
              "</table>\n",
              "</div>"
            ],
            "text/plain": [
              "                                                grid               letters  \\\n",
              "0  [array([['Л', 'Ж', 'П'],\\n       ['Т', 'Х', 'Х...  ['Л', 'Ж', 'П', 'Т']   \n",
              "1  [array([['Ж', 'Л', 'Т'],\\n       ['Х', 'Х', 'П...  ['Ж', 'Л', 'Т', 'П']   \n",
              "2  [array([['П', 'Л', 'Ж'],\\n       ['Х', 'Х', 'Х...  ['П', 'Л', 'Ж', 'Т']   \n",
              "3  [array([['Ж', 'Л', 'Т'],\\n       ['Х', 'Х', 'Х...  ['Ж', 'Л', 'Т', 'П']   \n",
              "4  [array([['Т', 'П', 'Ж'],\\n       ['Х', 'Х', 'Х...  ['Т', 'П', 'Ж', 'Л']   \n",
              "\n",
              "           locs  encoding_stim   incorr_locs  \\\n",
              "0  [0, 1, 2, 3]  grid_1331.png  [5, 6, 7, 8]   \n",
              "1  [0, 1, 2, 5]  grid_1332.png  [3, 6, 7, 8]   \n",
              "2  [0, 1, 2, 6]  grid_1333.png  [3, 5, 7, 8]   \n",
              "3  [0, 1, 2, 7]  grid_1334.png  [3, 5, 6, 8]   \n",
              "4  [0, 1, 2, 8]  grid_1335.png  [3, 5, 6, 7]   \n",
              "\n",
              "                       corr_letters  \\\n",
              "0  {'Л': 0, 'Ж': 1, 'П': 2, 'Т': 3}   \n",
              "1  {'Ж': 0, 'Л': 1, 'Т': 2, 'П': 3}   \n",
              "2  {'П': 0, 'Л': 1, 'Ж': 2, 'Т': 3}   \n",
              "3  {'Ж': 0, 'Л': 1, 'Т': 2, 'П': 3}   \n",
              "4  {'Т': 0, 'П': 1, 'Ж': 2, 'Л': 3}   \n",
              "\n",
              "                                      incorr_letters  rotated_inds  \\\n",
              "0  {'Л': [1, 2, 3], 'Ж': [0, 2, 3], 'П': [0, 1, 3...  [2, 5, 8, 1]   \n",
              "1  {'Ж': [1, 2, 3], 'Л': [0, 2, 3], 'Т': [0, 1, 3...  [2, 5, 8, 7]   \n",
              "2  {'П': [1, 2, 3], 'Л': [0, 2, 3], 'Ж': [0, 1, 3...  [2, 5, 8, 0]   \n",
              "3  {'Ж': [1, 2, 3], 'Л': [0, 2, 3], 'Т': [0, 1, 3...  [2, 5, 8, 3]   \n",
              "4  {'Т': [1, 2, 3], 'П': [0, 2, 3], 'Ж': [0, 1, 3...  [2, 5, 8, 6]   \n",
              "\n",
              "     incorr_rot  \n",
              "0  [0, 3, 6, 7]  \n",
              "1  [0, 1, 3, 6]  \n",
              "2  [1, 3, 6, 7]  \n",
              "3  [0, 1, 6, 7]  \n",
              "4  [0, 1, 3, 7]  "
            ]
          },
          "execution_count": 12,
          "metadata": {},
          "output_type": "execute_result"
        }
      ],
      "source": [
        "all_grids_df.head()"
      ]
    },
    {
      "cell_type": "markdown",
      "metadata": {},
      "source": [
        "*rules for alphabet*"
      ]
    },
    {
      "cell_type": "code",
      "execution_count": 58,
      "metadata": {},
      "outputs": [],
      "source": [
        "# Correct alphabetical order\n",
        "\n",
        "# Initialize lists to store alphabetically ordered letters and incorrect alphabetical orders for each grid\n",
        "abc_ordered = []\n",
        "incorrect_abc = []\n",
        "\n",
        "# Iterate through the 'letters' column of the DataFrame\n",
        "for sequence in all_grids_df['letters']:\n",
        "    # Convert the string representation of the sequence to a list\n",
        "    sequence = ast.literal_eval(sequence)\n",
        "    # Sort the sequence alphabetically\n",
        "    sequence = ''.join(sorted(sequence))\n",
        "    \n",
        "    # Create a dictionary mapping each letter to its index in the alphabetically ordered sequence\n",
        "    letter_dict = {letter: index for index, letter in enumerate(sequence)}\n",
        "    \n",
        "    # Create a dictionary mapping each letter to a list of indices where it appears incorrectly\n",
        "    incorrect_indices_dict = {\n",
        "        letter: [index for index, char in enumerate(sequence) if char != letter] for letter in sequence\n",
        "    }\n",
        "    \n",
        "    # Append the dictionaries to the respective lists\n",
        "    abc_ordered.append(letter_dict)\n",
        "    incorrect_abc.append(incorrect_indices_dict)\n",
        "\n",
        "# Add the lists of alphabetically ordered letters as a new column 'abc_ordered' in the DataFrame\n",
        "all_grids_df['abc_ordered'] = abc_ordered"
      ]
    },
    {
      "cell_type": "markdown",
      "metadata": {},
      "source": [
        "*additional rule for the incorrect ABC locations*"
      ]
    },
    {
      "cell_type": "code",
      "execution_count": 59,
      "metadata": {},
      "outputs": [],
      "source": [
        "# We would like to limit the positions where a letter can be incorrectly presented\n",
        "\n",
        "# 1. Arrange the set of letters alphabetically and split in 4 groups\n",
        "# Define the set of letters alphabetically\n",
        "all_letters = 'ТЛКМДПГЖШФ'\n",
        "# Sort the letters alphabetically\n",
        "all_letters_sorted = sorted(all_letters)\n",
        "# Define the sizes of each group\n",
        "group_sizes = [2, 3, 3, 2]\n",
        "# Initialize a list to store groups of letters\n",
        "groups = []\n",
        "\n",
        "# Split the sorted letters into groups based on the group sizes\n",
        "for i in range(len(group_sizes)):\n",
        "    groups.append(tuple(all_letters_sorted[sum(group_sizes[:i]):sum(group_sizes[:i+1])]))\n",
        "\n",
        "# 2. Decide possible location for each group\n",
        "possible_locs = [[0, 1], [0, 1, 2], [1, 2, 3], [2, 3]]\n",
        "# Create a dictionary mapping each group of letters to its possible locations\n",
        "abc_groups_dict = {key: value for key, value in zip(groups, possible_locs)}\n",
        "\n",
        "# 3. Create a dictionary with possible locations for each letter\n",
        "incorr_abc_rule = {}\n",
        "for letters, positions in abc_groups_dict.items():\n",
        "    for letter in letters:\n",
        "        # Map each letter to its possible locations\n",
        "        incorr_abc_rule[letter] = positions\n"
      ]
    },
    {
      "cell_type": "code",
      "execution_count": 65,
      "metadata": {},
      "outputs": [
        {
          "data": {
            "text/plain": [
              "{'Г': [0, 1],\n",
              " 'Д': [0, 1],\n",
              " 'Ж': [0, 1, 2],\n",
              " 'К': [0, 1, 2],\n",
              " 'Л': [0, 1, 2],\n",
              " 'М': [1, 2, 3],\n",
              " 'П': [1, 2, 3],\n",
              " 'Т': [1, 2, 3],\n",
              " 'Ф': [2, 3],\n",
              " 'Ш': [2, 3]}"
            ]
          },
          "execution_count": 65,
          "metadata": {},
          "output_type": "execute_result"
        }
      ],
      "source": [
        "incorr_abc_rule"
      ]
    },
    {
      "cell_type": "code",
      "execution_count": 60,
      "metadata": {},
      "outputs": [],
      "source": [
        "# Filter incorrect positions for letters based on the rule in the previous cells\n",
        "def filtered_incorr_dict(incorrect_abc: list[dict], incorr_abc_rule: dict) -> dict:\n",
        "    # Create a new dictionary to store the filtered incorrect locations\n",
        "    filtered_dicts = []\n",
        "\n",
        "    for abc_dict in incorrect_abc:\n",
        "        filtered_incorr_dict = {}\n",
        "        # Iterate through the keys of incorr_dict\n",
        "        for letter, positions in abc_dict.items():\n",
        "            # Get the allowed positions from incorr_abc_rule for the current letter\n",
        "            allowed_positions = incorr_abc_rule.get(letter, [])\n",
        "\n",
        "            # Find the intersection between allowed positions and the incorrect positions\n",
        "            filtered_positions = list(set(positions) & set(allowed_positions))\n",
        "\n",
        "            # Update the filtered_incorr_dict with the filtered positions\n",
        "            if filtered_positions:\n",
        "                filtered_incorr_dict[letter] = filtered_positions\n",
        "\n",
        "        filtered_dicts.append(filtered_incorr_dict)\n",
        "\n",
        "    return filtered_dicts"
      ]
    },
    {
      "cell_type": "code",
      "execution_count": 61,
      "metadata": {},
      "outputs": [],
      "source": [
        "# Incorrect alphabetical order\n",
        "\n",
        "filtered_incorr_dict = filtered_incorr_dict(incorrect_abc, incorr_abc_rule)\n",
        "\n",
        "# Assign the filtered dictionaries to a new column 'incorr_abc' in the DataFrame\n",
        "all_grids_df['incorr_abc'] = filtered_incorr_dict"
      ]
    },
    {
      "cell_type": "code",
      "execution_count": 62,
      "metadata": {},
      "outputs": [
        {
          "data": {
            "text/html": [
              "<div>\n",
              "<style scoped>\n",
              "    .dataframe tbody tr th:only-of-type {\n",
              "        vertical-align: middle;\n",
              "    }\n",
              "\n",
              "    .dataframe tbody tr th {\n",
              "        vertical-align: top;\n",
              "    }\n",
              "\n",
              "    .dataframe thead th {\n",
              "        text-align: right;\n",
              "    }\n",
              "</style>\n",
              "<table border=\"1\" class=\"dataframe\">\n",
              "  <thead>\n",
              "    <tr style=\"text-align: right;\">\n",
              "      <th></th>\n",
              "      <th>grid</th>\n",
              "      <th>letters</th>\n",
              "      <th>locs</th>\n",
              "      <th>encoding_stim</th>\n",
              "      <th>incorr_locs</th>\n",
              "      <th>corr_letters</th>\n",
              "      <th>incorr_letters</th>\n",
              "      <th>rotated_inds</th>\n",
              "      <th>incorr_rot</th>\n",
              "      <th>abc_ordered</th>\n",
              "      <th>incorr_abc</th>\n",
              "    </tr>\n",
              "  </thead>\n",
              "  <tbody>\n",
              "    <tr>\n",
              "      <th>0</th>\n",
              "      <td>[array([['Л', 'Ж', 'П'],\\n       ['Т', 'Х', 'Х...</td>\n",
              "      <td>['Л', 'Ж', 'П', 'Т']</td>\n",
              "      <td>[0, 1, 2, 3]</td>\n",
              "      <td>grid_1331.png</td>\n",
              "      <td>[5, 6, 7, 8]</td>\n",
              "      <td>{'Л': 0, 'Ж': 1, 'П': 2, 'Т': 3}</td>\n",
              "      <td>{'Л': [1, 2, 3], 'Ж': [0, 2, 3], 'П': [0, 1, 3...</td>\n",
              "      <td>[2, 5, 8, 1]</td>\n",
              "      <td>[0, 3, 6, 7]</td>\n",
              "      <td>{'Ж': 0, 'Л': 1, 'П': 2, 'Т': 3}</td>\n",
              "      <td>{'Ж': [1, 2], 'Л': [0, 2], 'П': [1, 3], 'Т': [...</td>\n",
              "    </tr>\n",
              "    <tr>\n",
              "      <th>1</th>\n",
              "      <td>[array([['Ж', 'Л', 'Т'],\\n       ['Х', 'Х', 'П...</td>\n",
              "      <td>['Ж', 'Л', 'Т', 'П']</td>\n",
              "      <td>[0, 1, 2, 5]</td>\n",
              "      <td>grid_1332.png</td>\n",
              "      <td>[3, 6, 7, 8]</td>\n",
              "      <td>{'Ж': 0, 'Л': 1, 'Т': 2, 'П': 3}</td>\n",
              "      <td>{'Ж': [1, 2, 3], 'Л': [0, 2, 3], 'Т': [0, 1, 3...</td>\n",
              "      <td>[2, 5, 8, 7]</td>\n",
              "      <td>[0, 1, 3, 6]</td>\n",
              "      <td>{'Ж': 0, 'Л': 1, 'П': 2, 'Т': 3}</td>\n",
              "      <td>{'Ж': [1, 2], 'Л': [0, 2], 'П': [1, 3], 'Т': [...</td>\n",
              "    </tr>\n",
              "    <tr>\n",
              "      <th>2</th>\n",
              "      <td>[array([['П', 'Л', 'Ж'],\\n       ['Х', 'Х', 'Х...</td>\n",
              "      <td>['П', 'Л', 'Ж', 'Т']</td>\n",
              "      <td>[0, 1, 2, 6]</td>\n",
              "      <td>grid_1333.png</td>\n",
              "      <td>[3, 5, 7, 8]</td>\n",
              "      <td>{'П': 0, 'Л': 1, 'Ж': 2, 'Т': 3}</td>\n",
              "      <td>{'П': [1, 2, 3], 'Л': [0, 2, 3], 'Ж': [0, 1, 3...</td>\n",
              "      <td>[2, 5, 8, 0]</td>\n",
              "      <td>[1, 3, 6, 7]</td>\n",
              "      <td>{'Ж': 0, 'Л': 1, 'П': 2, 'Т': 3}</td>\n",
              "      <td>{'Ж': [1, 2], 'Л': [0, 2], 'П': [1, 3], 'Т': [...</td>\n",
              "    </tr>\n",
              "    <tr>\n",
              "      <th>3</th>\n",
              "      <td>[array([['Ж', 'Л', 'Т'],\\n       ['Х', 'Х', 'Х...</td>\n",
              "      <td>['Ж', 'Л', 'Т', 'П']</td>\n",
              "      <td>[0, 1, 2, 7]</td>\n",
              "      <td>grid_1334.png</td>\n",
              "      <td>[3, 5, 6, 8]</td>\n",
              "      <td>{'Ж': 0, 'Л': 1, 'Т': 2, 'П': 3}</td>\n",
              "      <td>{'Ж': [1, 2, 3], 'Л': [0, 2, 3], 'Т': [0, 1, 3...</td>\n",
              "      <td>[2, 5, 8, 3]</td>\n",
              "      <td>[0, 1, 6, 7]</td>\n",
              "      <td>{'Ж': 0, 'Л': 1, 'П': 2, 'Т': 3}</td>\n",
              "      <td>{'Ж': [1, 2], 'Л': [0, 2], 'П': [1, 3], 'Т': [...</td>\n",
              "    </tr>\n",
              "    <tr>\n",
              "      <th>4</th>\n",
              "      <td>[array([['Т', 'П', 'Ж'],\\n       ['Х', 'Х', 'Х...</td>\n",
              "      <td>['Т', 'П', 'Ж', 'Л']</td>\n",
              "      <td>[0, 1, 2, 8]</td>\n",
              "      <td>grid_1335.png</td>\n",
              "      <td>[3, 5, 6, 7]</td>\n",
              "      <td>{'Т': 0, 'П': 1, 'Ж': 2, 'Л': 3}</td>\n",
              "      <td>{'Т': [1, 2, 3], 'П': [0, 2, 3], 'Ж': [0, 1, 3...</td>\n",
              "      <td>[2, 5, 8, 6]</td>\n",
              "      <td>[0, 1, 3, 7]</td>\n",
              "      <td>{'Ж': 0, 'Л': 1, 'П': 2, 'Т': 3}</td>\n",
              "      <td>{'Ж': [1, 2], 'Л': [0, 2], 'П': [1, 3], 'Т': [...</td>\n",
              "    </tr>\n",
              "  </tbody>\n",
              "</table>\n",
              "</div>"
            ],
            "text/plain": [
              "                                                grid               letters  \\\n",
              "0  [array([['Л', 'Ж', 'П'],\\n       ['Т', 'Х', 'Х...  ['Л', 'Ж', 'П', 'Т']   \n",
              "1  [array([['Ж', 'Л', 'Т'],\\n       ['Х', 'Х', 'П...  ['Ж', 'Л', 'Т', 'П']   \n",
              "2  [array([['П', 'Л', 'Ж'],\\n       ['Х', 'Х', 'Х...  ['П', 'Л', 'Ж', 'Т']   \n",
              "3  [array([['Ж', 'Л', 'Т'],\\n       ['Х', 'Х', 'Х...  ['Ж', 'Л', 'Т', 'П']   \n",
              "4  [array([['Т', 'П', 'Ж'],\\n       ['Х', 'Х', 'Х...  ['Т', 'П', 'Ж', 'Л']   \n",
              "\n",
              "           locs  encoding_stim   incorr_locs  \\\n",
              "0  [0, 1, 2, 3]  grid_1331.png  [5, 6, 7, 8]   \n",
              "1  [0, 1, 2, 5]  grid_1332.png  [3, 6, 7, 8]   \n",
              "2  [0, 1, 2, 6]  grid_1333.png  [3, 5, 7, 8]   \n",
              "3  [0, 1, 2, 7]  grid_1334.png  [3, 5, 6, 8]   \n",
              "4  [0, 1, 2, 8]  grid_1335.png  [3, 5, 6, 7]   \n",
              "\n",
              "                       corr_letters  \\\n",
              "0  {'Л': 0, 'Ж': 1, 'П': 2, 'Т': 3}   \n",
              "1  {'Ж': 0, 'Л': 1, 'Т': 2, 'П': 3}   \n",
              "2  {'П': 0, 'Л': 1, 'Ж': 2, 'Т': 3}   \n",
              "3  {'Ж': 0, 'Л': 1, 'Т': 2, 'П': 3}   \n",
              "4  {'Т': 0, 'П': 1, 'Ж': 2, 'Л': 3}   \n",
              "\n",
              "                                      incorr_letters  rotated_inds  \\\n",
              "0  {'Л': [1, 2, 3], 'Ж': [0, 2, 3], 'П': [0, 1, 3...  [2, 5, 8, 1]   \n",
              "1  {'Ж': [1, 2, 3], 'Л': [0, 2, 3], 'Т': [0, 1, 3...  [2, 5, 8, 7]   \n",
              "2  {'П': [1, 2, 3], 'Л': [0, 2, 3], 'Ж': [0, 1, 3...  [2, 5, 8, 0]   \n",
              "3  {'Ж': [1, 2, 3], 'Л': [0, 2, 3], 'Т': [0, 1, 3...  [2, 5, 8, 3]   \n",
              "4  {'Т': [1, 2, 3], 'П': [0, 2, 3], 'Ж': [0, 1, 3...  [2, 5, 8, 6]   \n",
              "\n",
              "     incorr_rot                       abc_ordered  \\\n",
              "0  [0, 3, 6, 7]  {'Ж': 0, 'Л': 1, 'П': 2, 'Т': 3}   \n",
              "1  [0, 1, 3, 6]  {'Ж': 0, 'Л': 1, 'П': 2, 'Т': 3}   \n",
              "2  [1, 3, 6, 7]  {'Ж': 0, 'Л': 1, 'П': 2, 'Т': 3}   \n",
              "3  [0, 1, 6, 7]  {'Ж': 0, 'Л': 1, 'П': 2, 'Т': 3}   \n",
              "4  [0, 1, 3, 7]  {'Ж': 0, 'Л': 1, 'П': 2, 'Т': 3}   \n",
              "\n",
              "                                          incorr_abc  \n",
              "0  {'Ж': [1, 2], 'Л': [0, 2], 'П': [1, 3], 'Т': [...  \n",
              "1  {'Ж': [1, 2], 'Л': [0, 2], 'П': [1, 3], 'Т': [...  \n",
              "2  {'Ж': [1, 2], 'Л': [0, 2], 'П': [1, 3], 'Т': [...  \n",
              "3  {'Ж': [1, 2], 'Л': [0, 2], 'П': [1, 3], 'Т': [...  \n",
              "4  {'Ж': [1, 2], 'Л': [0, 2], 'П': [1, 3], 'Т': [...  "
            ]
          },
          "execution_count": 62,
          "metadata": {},
          "output_type": "execute_result"
        }
      ],
      "source": [
        "all_grids_df.head()"
      ]
    },
    {
      "cell_type": "code",
      "execution_count": 63,
      "metadata": {},
      "outputs": [],
      "source": [
        "# Save the resulting DataFrame as a CSV file\n",
        "all_grids_df.to_csv(all_grids_path, sep=';', index=True, encoding='utf-8-sig')"
      ]
    },
    {
      "cell_type": "markdown",
      "metadata": {},
      "source": [
        "*drawing single squares for PROBES*"
      ]
    },
    {
      "cell_type": "code",
      "execution_count": 7,
      "metadata": {},
      "outputs": [],
      "source": [
        "# We would like to create visual probes that will be presented to the participants\n",
        "probes_dir = '...\\\\probes\\\\' #! SET YOUR PATH HERE"
      ]
    },
    {
      "cell_type": "code",
      "execution_count": null,
      "metadata": {},
      "outputs": [],
      "source": [
        "# Draw PROBES with single locations highlighted\n",
        "\n",
        "# Dictionary mapping indices to grid positions\n",
        "loc_index = {\n",
        "            0: (0, 2),\n",
        "            1: (1, 2),\n",
        "            2: (2, 2),\n",
        "            3: (0, 1),\n",
        "            4: (1, 1),\n",
        "            5: (2, 1),\n",
        "            6: (0, 0),\n",
        "            7: (1, 0),\n",
        "            8: (2, 0)\n",
        "            }\n",
        "\n",
        "# Create an empty DataFrame to store metadata\n",
        "data = pd.DataFrame({'shaded_index': [], 'filename': []})\n",
        "\n",
        "# Loop through each key-value pair in loc_index\n",
        "for key, value in loc_index.items():\n",
        "    fig, ax = plt.subplots()\n",
        "    ax.axis('off')\n",
        "    ax.set_aspect('equal')\n",
        "\n",
        "    # Draw the grid lines\n",
        "    for i in range(4):\n",
        "        ax.hlines(i, 0, 3, color='gray', linewidth=2)  # horizontal lines\n",
        "        ax.vlines(i, 0, 3, color='gray', linewidth=2)  # vertical lines\n",
        "\n",
        "     # Determine the position to shade based on the current key\n",
        "    position = value\n",
        "    ax.axvspan(0, 3, facecolor=(0.95, 0.95, 0.95)) # 0.95 or 0.97\n",
        "    rect = plt.Rectangle(position, 1, 1, color='0.85') # light gray rectangle # 0.85 or 0.9\n",
        "    ax.add_patch(rect)\n",
        "\n",
        "    # Save the plot as an image\n",
        "    if key != 4:\n",
        "        plt.savefig(f'{probes_dir}figure_{key}.png', bbox_inches='tight', pad_inches=-0.18, dpi=300)\n",
        "        plt.close()\n",
        "\n",
        "        data = data.convert_dtypes().append({'shaded_index': int(key), 'filename': f'figure_{key}.png'}, ignore_index=True)\n",
        "\n",
        "# Save metadata as a CSV file\n",
        "data.to_csv(f'{probes_dir}fig_df.csv', sep=';', index=True, encoding='utf-8-sig')\n"
      ]
    },
    {
      "cell_type": "markdown",
      "metadata": {},
      "source": [
        "**THE END**"
      ]
    }
  ],
  "metadata": {
    "colab": {
      "provenance": []
    },
    "kernelspec": {
      "display_name": "Python 3.10.8 ('venv': venv)",
      "language": "python",
      "name": "python3"
    },
    "language_info": {
      "codemirror_mode": {
        "name": "ipython",
        "version": 3
      },
      "file_extension": ".py",
      "mimetype": "text/x-python",
      "name": "python",
      "nbconvert_exporter": "python",
      "pygments_lexer": "ipython3",
      "version": "3.10.8"
    },
    "vscode": {
      "interpreter": {
        "hash": "4826bf0c3d2240af24262f67909c256cdace7a9ee93669e372a1248fd44e3f16"
      }
    }
  },
  "nbformat": 4,
  "nbformat_minor": 0
}
